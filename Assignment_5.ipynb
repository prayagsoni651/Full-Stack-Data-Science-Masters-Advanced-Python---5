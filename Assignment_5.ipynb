{
 "cells": [
  {
   "cell_type": "code",
   "execution_count": 1,
   "metadata": {},
   "outputs": [
    {
     "data": {
      "text/plain": [
       "'\\nMultiple inheritance is a feature in object-oriented programming where a class can inherit attributes and methods from more than one parent class. This means that a subclass can have multiple direct superclasses. This allows for a hierarchical structure where a subclass inherits characteristics from multiple parent classes, enabling code reuse and promoting flexibility in class design.\\n\\nIn multiple inheritance, a subclass inherits all the attributes and methods from each of its parent classes. This allows the subclass to exhibit behavior and characteristics from multiple sources simultaneously. However, it also introduces complexities, such as potential conflicts between inherited methods or attributes with the same name from different parent classes.\\n\\nPython supports multiple inheritance, meaning a class can inherit from multiple parent classes by listing them in its class definition separated by commas. This feature enables developers to create complex class hierarchies and share behavior between unrelated classes. However, it requires careful design to manage potential conflicts and ensure that the resulting class hierarchy remains understandable and maintainable.\\n\\n'"
      ]
     },
     "execution_count": 1,
     "metadata": {},
     "output_type": "execute_result"
    }
   ],
   "source": [
    "# Q1. What is the meaning of multiple inheritance?\n",
    "\n",
    "'''\n",
    "Multiple inheritance is a feature in object-oriented programming where a class can inherit attributes and methods from more than one parent class. This means that a subclass can have multiple direct superclasses. This allows for a hierarchical structure where a subclass inherits characteristics from multiple parent classes, enabling code reuse and promoting flexibility in class design.\n",
    "\n",
    "In multiple inheritance, a subclass inherits all the attributes and methods from each of its parent classes. This allows the subclass to exhibit behavior and characteristics from multiple sources simultaneously. However, it also introduces complexities, such as potential conflicts between inherited methods or attributes with the same name from different parent classes.\n",
    "\n",
    "Python supports multiple inheritance, meaning a class can inherit from multiple parent classes by listing them in its class definition separated by commas. This feature enables developers to create complex class hierarchies and share behavior between unrelated classes. However, it requires careful design to manage potential conflicts and ensure that the resulting class hierarchy remains understandable and maintainable.\n",
    "\n",
    "'''"
   ]
  },
  {
   "cell_type": "code",
   "execution_count": 2,
   "metadata": {},
   "outputs": [
    {
     "name": "stdout",
     "output_type": "stream",
     "text": [
      "Worker is working...\n"
     ]
    }
   ],
   "source": [
    "# Q2. What is the concept of delegation?\n",
    "\n",
    "'''\n",
    "\n",
    "Delegation is a design pattern in object-oriented programming where an object forwards method calls or requests to another object, known as the delegate, to perform the actual work. Instead of implementing the functionality directly, the delegating object relies on the delegate to handle the task.\n",
    "\n",
    "Key Points about Delegation:\n",
    "Responsibility Transfer: Delegation involves transferring responsibility for handling a task from one object to another. The delegating object forwards method calls or requests to the delegate, which is responsible for carrying out the actual implementation.\n",
    "\n",
    "Code Reusability: Delegation promotes code reuse by allowing multiple objects to share common behavior implemented by a single delegate. This avoids duplication of code and promotes modularization and maintainability.\n",
    "\n",
    "Flexibility and Encapsulation: Delegation allows for flexible and loosely coupled designs by separating concerns between objects. Each object focuses on its specific responsibilities, and changes to one object's implementation do not directly affect others. This promotes encapsulation and reduces dependencies.\n",
    "\n",
    "Dynamic Behavior: Delegation can enable dynamic behavior at runtime. The delegate can be changed dynamically, allowing objects to switch behavior or adapt to changing requirements without modifying their own code.\n",
    "\n",
    "Granular Control: Delegation allows for granular control over behavior and functionality. By selecting different delegates, objects can customize their behavior or adapt to different contexts without changing their own implementation.\n",
    "\n",
    "\n",
    "'''\n",
    "\n",
    "class Worker:\n",
    "    def work(self):\n",
    "        print(\"Worker is working...\")\n",
    "\n",
    "class Manager:\n",
    "    def __init__(self):\n",
    "        self.worker = Worker()\n",
    "\n",
    "    def manage(self):\n",
    "        self.worker.work()\n",
    "\n",
    "# Creating instances\n",
    "manager = Manager()\n",
    "\n",
    "# Delegating work to the worker object\n",
    "manager.manage()  # Output: Worker is working...\n"
   ]
  },
  {
   "cell_type": "code",
   "execution_count": 3,
   "metadata": {},
   "outputs": [
    {
     "name": "stdout",
     "output_type": "stream",
     "text": [
      "Car starting...\n",
      "Engine starting...\n"
     ]
    }
   ],
   "source": [
    "# Q3. What is the concept of composition?\n",
    "\n",
    "'''\n",
    "Composition is a design principle in object-oriented programming where objects are composed of other objects as parts, forming a \"has-a\" relationship. It involves creating complex objects by combining simpler objects or components, rather than relying solely on inheritance. Composition allows for building complex structures from smaller, reusable components, promoting code reuse, modularity, and flexibility.\n",
    "\n",
    "Key Points about Composition:\n",
    "\"Has-a\" Relationship: In composition, objects are composed of other objects as parts. This relationship is often described as a \"has-a\" relationship, where the containing object has references to its component objects.\n",
    "\n",
    "Code Reusability: Composition promotes code reuse by allowing objects to be constructed from reusable components. By composing objects from simpler parts, developers can avoid duplication of code and promote modularity and maintainability.\n",
    "\n",
    "Encapsulation and Abstraction: Composition supports encapsulation and abstraction by allowing objects to encapsulate their internal structure and behavior. Clients interact with the composite object through well-defined interfaces, without needing to know the details of its internal composition.\n",
    "\n",
    "Flexibility and Dynamism: Composition enables flexibility and dynamism in object structures. Components can be added, removed, or replaced dynamically at runtime, allowing objects to adapt to changing requirements or configurations.\n",
    "\n",
    "Granular Control: Composition provides granular control over object behavior and functionality. By composing objects from smaller components, developers can customize and configure object behavior more precisely, tailoring it to specific needs.\n",
    "\n",
    "'''\n",
    "\n",
    "class Engine:\n",
    "    def start(self):\n",
    "        print(\"Engine starting...\")\n",
    "\n",
    "class Car:\n",
    "    def __init__(self):\n",
    "        self.engine = Engine()\n",
    "\n",
    "    def start(self):\n",
    "        print(\"Car starting...\")\n",
    "        self.engine.start()\n",
    "\n",
    "# Creating instances\n",
    "car = Car()\n",
    "\n",
    "# Starting the car\n",
    "car.start()\n"
   ]
  },
  {
   "cell_type": "code",
   "execution_count": 4,
   "metadata": {},
   "outputs": [
    {
     "name": "stdout",
     "output_type": "stream",
     "text": [
      "Value: 10\n"
     ]
    }
   ],
   "source": [
    "# Q4. What are bound methods and how do we use them?\n",
    "\n",
    "'''\n",
    "Bound methods are methods that are bound to an instance of a class. When a method is bound, it means that the method is associated with a specific instance of the class, and calling the method will automatically pass that instance as the first argument (typically named self). In other words, the method is \"attached\" to the instance, allowing it to access and manipulate the instance's attributes and properties.\n",
    "\n",
    "How Bound Methods Work:\n",
    "Association with Instance: Bound methods are created when a method is accessed through an instance of a class. The method becomes bound to that particular instance, and subsequent calls to the method will automatically pass the instance as the first argument.\n",
    "\n",
    "Implicit Self Parameter: When defining methods in a class, the first parameter conventionally represents the instance itself and is typically named self. When calling a bound method, Python automatically passes the instance as the first argument, allowing the method to access instance attributes and properties.\n",
    "'''\n",
    "\n",
    "class MyClass:\n",
    "    def __init__(self, value):\n",
    "        self.value = value\n",
    "    \n",
    "    def method(self):\n",
    "        print(\"Value:\", self.value)\n",
    "\n",
    "# Creating an instance of MyClass\n",
    "obj = MyClass(10)\n",
    "\n",
    "# Accessing the bound method\n",
    "bound_method = obj.method\n",
    "\n",
    "# Calling the bound method\n",
    "bound_method()  # Outputs: Value: 10\n"
   ]
  },
  {
   "cell_type": "code",
   "execution_count": 5,
   "metadata": {},
   "outputs": [
    {
     "name": "stdout",
     "output_type": "stream",
     "text": [
      "10\n"
     ]
    }
   ],
   "source": [
    "# Q5. What is the purpose of pseudoprivate attributes?\n",
    "\n",
    "'''\n",
    "Pseudoprivate attributes in Python are a convention for creating attributes with names that are prefixed with double underscores (__). These attributes are also known as \"name mangling\" attributes. The purpose of pseudoprivate attributes is to simulate private access control within classes, restricting direct access to these attributes from outside the class's scope.\n",
    "\n",
    "Key Points about Pseudoprivate Attributes:\n",
    "Name Mangling: Attributes with names prefixed by double underscores are subject to name mangling by the Python interpreter. During name mangling, Python renames the attribute by appending _classname to the beginning of its name, where classname is the name of the class where the attribute is defined.\n",
    "\n",
    "Limited Access: Pseudoprivate attributes are not truly private in Python, as there is no strict enforcement of access control like in some other languages. However, name mangling makes it more difficult for external code to access these attributes directly.\n",
    "\n",
    "Class-Specific Scope: Pseudoprivate attributes are scoped to the class where they are defined. They can still be accessed from within methods of the class, as well as from within methods of subclasses.\n",
    "\n",
    "Avoiding Name Clashes: Pseudoprivate attributes help prevent accidental name clashes with attributes defined in subclasses or with attributes in other classes used in composition.\n",
    "\n",
    "'''\n",
    "class MyClass:\n",
    "    def __init__(self):\n",
    "        self.__private_attribute = 10\n",
    "\n",
    "    def get_private_attribute(self):\n",
    "        return self.__private_attribute\n",
    "\n",
    "# Creating an instance of MyClass\n",
    "obj = MyClass()\n",
    "\n",
    "# Accessing the pseudoprivate attribute\n",
    "print(obj.get_private_attribute())  # Outputs: 10\n",
    "\n",
    "# Attempting to access the pseudoprivate attribute directly\n",
    "# This will raise an AttributeError\n",
    "# print(obj.__private_attribute)\n",
    "\n"
   ]
  },
  {
   "cell_type": "code",
   "execution_count": null,
   "metadata": {},
   "outputs": [],
   "source": []
  }
 ],
 "metadata": {
  "kernelspec": {
   "display_name": "Python 3",
   "language": "python",
   "name": "python3"
  },
  "language_info": {
   "codemirror_mode": {
    "name": "ipython",
    "version": 3
   },
   "file_extension": ".py",
   "mimetype": "text/x-python",
   "name": "python",
   "nbconvert_exporter": "python",
   "pygments_lexer": "ipython3",
   "version": "3.12.3"
  }
 },
 "nbformat": 4,
 "nbformat_minor": 2
}
